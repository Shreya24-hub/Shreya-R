{
 "cells": [
  {
   "cell_type": "code",
   "execution_count": 3,
   "id": "d27f1fe0",
   "metadata": {},
   "outputs": [
    {
     "ename": "ModuleNotFoundError",
     "evalue": "No module named 'cv2'",
     "output_type": "error",
     "traceback": [
      "\u001b[1;31m---------------------------------------------------------------------------\u001b[0m",
      "\u001b[1;31mModuleNotFoundError\u001b[0m                       Traceback (most recent call last)",
      "Cell \u001b[1;32mIn[3], line 2\u001b[0m\n\u001b[0;32m      1\u001b[0m \u001b[38;5;28;01mimport\u001b[39;00m \u001b[38;5;21;01mos\u001b[39;00m\n\u001b[1;32m----> 2\u001b[0m \u001b[38;5;28;01mimport\u001b[39;00m \u001b[38;5;21;01mcv2\u001b[39;00m\n\u001b[0;32m      3\u001b[0m \u001b[38;5;28;01mimport\u001b[39;00m \u001b[38;5;21;01mnumpy\u001b[39;00m \u001b[38;5;28;01mas\u001b[39;00m \u001b[38;5;21;01mnp\u001b[39;00m\n\u001b[0;32m      5\u001b[0m \u001b[38;5;66;03m# Paths\u001b[39;00m\n",
      "\u001b[1;31mModuleNotFoundError\u001b[0m: No module named 'cv2'"
     ]
    }
   ],
   "source": [
    "import os\n",
    "import cv2\n",
    "import numpy as np\n",
    "\n",
    "# Paths\n",
    "input_images_dir = 'C:\\\\Users\\\\Shreya\\\\Downloads\\\\Brain Tumer Segmentation'\n",
    "input_masks_dir = 'C:\\\\Users\\\\Shreya\\Downloads\\\\Brain Tumer Segmentation\\\\masks'\n",
    "output_base_dir = 'C:\\\\Users\\\\Shreya\\\\Downloads\\\\Brain_tumour'\n",
    "\n",
    "# Folders for splits\n",
    "splits = {\n",
    "    'train': (0, 2000),\n",
    "    'val': (2000, 2500),\n",
    "    'test': (2500, 3064)  # total = 2000+500+564\n",
    "}\n",
    "\n",
    "# Create output folders\n",
    "for split in splits.keys():\n",
    "    os.makedirs(os.path.join(output_base_dir, split, 'images'), exist_ok=True)\n",
    "    os.makedirs(os.path.join(output_base_dir, split, 'masks'), exist_ok=True)\n",
    "\n",
    "# Target size\n",
    "target_size = (256, 256)\n",
    "\n",
    "# Sort filenames to keep consistent order\n",
    "filenames = sorted([f for f in os.listdir(input_images_dir) if f.endswith(('.png', '.jpg', '.jpeg'))])\n",
    "\n",
    "# Process\n",
    "for idx, filename in enumerate(filenames):\n",
    "    # Load image and mask in GRAYSCALE\n",
    "    img_path = os.path.join(input_images_dir, filename)\n",
    "    mask_path = os.path.join(input_masks_dir, filename)\n",
    "    \n",
    "    img = cv2.imread(img_path, cv2.IMREAD_GRAYSCALE)\n",
    "    mask = cv2.imread(mask_path, cv2.IMREAD_GRAYSCALE)\n",
    "\n",
    "    # Resize\n",
    "    img_resized = cv2.resize(img, target_size, interpolation=cv2.INTER_AREA)\n",
    "    mask_resized = cv2.resize(mask, target_size, interpolation=cv2.INTER_NEAREST)\n",
    "\n",
    "    # Normalize image\n",
    "    img_normalized = img_resized.astype(np.float32) / 255.0\n",
    "\n",
    "    # Denoise using fastNlMeansDenoising\n",
    "    img_uint8 = (img_normalized * 255).astype(np.uint8)\n",
    "    img_denoised = cv2.fastNlMeansDenoising(img_uint8, None, h=10, templateWindowSize=7, searchWindowSize=21)\n",
    "\n",
    "    # Decide split\n",
    "    if idx < splits['train'][1]:\n",
    "        split = 'train'\n",
    "    elif idx < splits['val'][1]:\n",
    "        split = 'val'\n",
    "    else:\n",
    "        split = 'test'\n",
    "\n",
    "    # Save\n",
    "    img_save_path = os.path.join(output_base_dir, split, 'images', filename)\n",
    "    mask_save_path = os.path.join(output_base_dir, split, 'masks', filename)\n",
    "\n",
    "    cv2.imwrite(img_save_path, img_denoised)\n",
    "    cv2.imwrite(mask_save_path, mask_resized)\n",
    "\n",
    "print(\"✅ Preprocessing + Split complete! Images resized, normalized, denoised, and saved into train/val/test folders.\")\n"
   ]
  }
 ],
 "metadata": {
  "kernelspec": {
   "display_name": "Python 3",
   "language": "python",
   "name": "python3"
  },
  "language_info": {
   "codemirror_mode": {
    "name": "ipython",
    "version": 3
   },
   "file_extension": ".py",
   "mimetype": "text/x-python",
   "name": "python",
   "nbconvert_exporter": "python",
   "pygments_lexer": "ipython3",
   "version": "3.9.13"
  }
 },
 "nbformat": 4,
 "nbformat_minor": 5
}
